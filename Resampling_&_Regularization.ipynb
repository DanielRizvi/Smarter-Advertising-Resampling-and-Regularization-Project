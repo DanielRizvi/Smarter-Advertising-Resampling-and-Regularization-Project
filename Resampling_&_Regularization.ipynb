{
  "nbformat": 4,
  "nbformat_minor": 0,
  "metadata": {
    "colab": {
      "provenance": []
    },
    "kernelspec": {
      "name": "python3",
      "display_name": "Python 3"
    },
    "language_info": {
      "name": "python"
    }
  },
  "cells": [
    {
      "cell_type": "markdown",
      "source": [
        "##Resampling & Regularization #CODEDANIEL\n"
      ],
      "metadata": {
        "id": "JhnAXzjalnv1"
      }
    },
    {
      "cell_type": "code",
      "execution_count": 2,
      "metadata": {
        "id": "RUDPzq6LT95c"
      },
      "outputs": [],
      "source": [
        "import numpy as np\n",
        "import pandas as pd\n",
        "import matplotlib.pyplot as plt\n",
        "%matplotlib inline"
      ]
    },
    {
      "cell_type": "markdown",
      "source": [
        "**import numpy as np:** This imports the NumPy library and gives it the alias np for convenience.\n",
        "\n",
        "**import pandas as pd:** This imports the Pandas library and gives it the alias pd for convenience.\n",
        "\n",
        "**import matplotlib.pyplot as plt:** This imports the pyplot module from the Matplotlib library and gives it the alias plt for convenience. The pyplot module is a collection of functions that provide a MATLAB-like interface for creating plots and charts.\n",
        "\n",
        "**%matplotlib inline:** This is a magic command that sets up the Jupyter notebook environment to display Matplotlib plots inline in the notebook."
      ],
      "metadata": {
        "id": "C3svYYCfnsIl"
      }
    },
    {
      "cell_type": "code",
      "source": [
        "datapath = 'https://raw.githubusercontent.com/marcopeix/datasciencewithmarco/master/data/Advertising.csv'\n",
        "data = pd.read_csv(datapath, index_col=0)"
      ],
      "metadata": {
        "id": "kfj0NM5Llq8h"
      },
      "execution_count": 9,
      "outputs": []
    },
    {
      "cell_type": "markdown",
      "source": [
        "Reading Dataset File, in CSV Format"
      ],
      "metadata": {
        "id": "uXZ--mChn40I"
      }
    },
    {
      "cell_type": "code",
      "source": [
        "data.head()"
      ],
      "metadata": {
        "colab": {
          "base_uri": "https://localhost:8080/",
          "height": 206
        },
        "id": "t7zbynKxmIaK",
        "outputId": "c4cfed8b-1387-4169-fcbc-97284d77c392"
      },
      "execution_count": 10,
      "outputs": [
        {
          "output_type": "execute_result",
          "data": {
            "text/plain": [
              "      TV  radio  newspaper  sales\n",
              "1  230.1   37.8       69.2   22.1\n",
              "2   44.5   39.3       45.1   10.4\n",
              "3   17.2   45.9       69.3    9.3\n",
              "4  151.5   41.3       58.5   18.5\n",
              "5  180.8   10.8       58.4   12.9"
            ],
            "text/html": [
              "\n",
              "  <div id=\"df-87780bf2-ba8b-4d73-b3e1-6720bb894912\">\n",
              "    <div class=\"colab-df-container\">\n",
              "      <div>\n",
              "<style scoped>\n",
              "    .dataframe tbody tr th:only-of-type {\n",
              "        vertical-align: middle;\n",
              "    }\n",
              "\n",
              "    .dataframe tbody tr th {\n",
              "        vertical-align: top;\n",
              "    }\n",
              "\n",
              "    .dataframe thead th {\n",
              "        text-align: right;\n",
              "    }\n",
              "</style>\n",
              "<table border=\"1\" class=\"dataframe\">\n",
              "  <thead>\n",
              "    <tr style=\"text-align: right;\">\n",
              "      <th></th>\n",
              "      <th>TV</th>\n",
              "      <th>radio</th>\n",
              "      <th>newspaper</th>\n",
              "      <th>sales</th>\n",
              "    </tr>\n",
              "  </thead>\n",
              "  <tbody>\n",
              "    <tr>\n",
              "      <th>1</th>\n",
              "      <td>230.1</td>\n",
              "      <td>37.8</td>\n",
              "      <td>69.2</td>\n",
              "      <td>22.1</td>\n",
              "    </tr>\n",
              "    <tr>\n",
              "      <th>2</th>\n",
              "      <td>44.5</td>\n",
              "      <td>39.3</td>\n",
              "      <td>45.1</td>\n",
              "      <td>10.4</td>\n",
              "    </tr>\n",
              "    <tr>\n",
              "      <th>3</th>\n",
              "      <td>17.2</td>\n",
              "      <td>45.9</td>\n",
              "      <td>69.3</td>\n",
              "      <td>9.3</td>\n",
              "    </tr>\n",
              "    <tr>\n",
              "      <th>4</th>\n",
              "      <td>151.5</td>\n",
              "      <td>41.3</td>\n",
              "      <td>58.5</td>\n",
              "      <td>18.5</td>\n",
              "    </tr>\n",
              "    <tr>\n",
              "      <th>5</th>\n",
              "      <td>180.8</td>\n",
              "      <td>10.8</td>\n",
              "      <td>58.4</td>\n",
              "      <td>12.9</td>\n",
              "    </tr>\n",
              "  </tbody>\n",
              "</table>\n",
              "</div>\n",
              "      <button class=\"colab-df-convert\" onclick=\"convertToInteractive('df-87780bf2-ba8b-4d73-b3e1-6720bb894912')\"\n",
              "              title=\"Convert this dataframe to an interactive table.\"\n",
              "              style=\"display:none;\">\n",
              "        \n",
              "  <svg xmlns=\"http://www.w3.org/2000/svg\" height=\"24px\"viewBox=\"0 0 24 24\"\n",
              "       width=\"24px\">\n",
              "    <path d=\"M0 0h24v24H0V0z\" fill=\"none\"/>\n",
              "    <path d=\"M18.56 5.44l.94 2.06.94-2.06 2.06-.94-2.06-.94-.94-2.06-.94 2.06-2.06.94zm-11 1L8.5 8.5l.94-2.06 2.06-.94-2.06-.94L8.5 2.5l-.94 2.06-2.06.94zm10 10l.94 2.06.94-2.06 2.06-.94-2.06-.94-.94-2.06-.94 2.06-2.06.94z\"/><path d=\"M17.41 7.96l-1.37-1.37c-.4-.4-.92-.59-1.43-.59-.52 0-1.04.2-1.43.59L10.3 9.45l-7.72 7.72c-.78.78-.78 2.05 0 2.83L4 21.41c.39.39.9.59 1.41.59.51 0 1.02-.2 1.41-.59l7.78-7.78 2.81-2.81c.8-.78.8-2.07 0-2.86zM5.41 20L4 18.59l7.72-7.72 1.47 1.35L5.41 20z\"/>\n",
              "  </svg>\n",
              "      </button>\n",
              "      \n",
              "  <style>\n",
              "    .colab-df-container {\n",
              "      display:flex;\n",
              "      flex-wrap:wrap;\n",
              "      gap: 12px;\n",
              "    }\n",
              "\n",
              "    .colab-df-convert {\n",
              "      background-color: #E8F0FE;\n",
              "      border: none;\n",
              "      border-radius: 50%;\n",
              "      cursor: pointer;\n",
              "      display: none;\n",
              "      fill: #1967D2;\n",
              "      height: 32px;\n",
              "      padding: 0 0 0 0;\n",
              "      width: 32px;\n",
              "    }\n",
              "\n",
              "    .colab-df-convert:hover {\n",
              "      background-color: #E2EBFA;\n",
              "      box-shadow: 0px 1px 2px rgba(60, 64, 67, 0.3), 0px 1px 3px 1px rgba(60, 64, 67, 0.15);\n",
              "      fill: #174EA6;\n",
              "    }\n",
              "\n",
              "    [theme=dark] .colab-df-convert {\n",
              "      background-color: #3B4455;\n",
              "      fill: #D2E3FC;\n",
              "    }\n",
              "\n",
              "    [theme=dark] .colab-df-convert:hover {\n",
              "      background-color: #434B5C;\n",
              "      box-shadow: 0px 1px 3px 1px rgba(0, 0, 0, 0.15);\n",
              "      filter: drop-shadow(0px 1px 2px rgba(0, 0, 0, 0.3));\n",
              "      fill: #FFFFFF;\n",
              "    }\n",
              "  </style>\n",
              "\n",
              "      <script>\n",
              "        const buttonEl =\n",
              "          document.querySelector('#df-87780bf2-ba8b-4d73-b3e1-6720bb894912 button.colab-df-convert');\n",
              "        buttonEl.style.display =\n",
              "          google.colab.kernel.accessAllowed ? 'block' : 'none';\n",
              "\n",
              "        async function convertToInteractive(key) {\n",
              "          const element = document.querySelector('#df-87780bf2-ba8b-4d73-b3e1-6720bb894912');\n",
              "          const dataTable =\n",
              "            await google.colab.kernel.invokeFunction('convertToInteractive',\n",
              "                                                     [key], {});\n",
              "          if (!dataTable) return;\n",
              "\n",
              "          const docLinkHtml = 'Like what you see? Visit the ' +\n",
              "            '<a target=\"_blank\" href=https://colab.research.google.com/notebooks/data_table.ipynb>data table notebook</a>'\n",
              "            + ' to learn more about interactive tables.';\n",
              "          element.innerHTML = '';\n",
              "          dataTable['output_type'] = 'display_data';\n",
              "          await google.colab.output.renderOutput(dataTable, element);\n",
              "          const docLink = document.createElement('div');\n",
              "          docLink.innerHTML = docLinkHtml;\n",
              "          element.appendChild(docLink);\n",
              "        }\n",
              "      </script>\n",
              "    </div>\n",
              "  </div>\n",
              "  "
            ]
          },
          "metadata": {},
          "execution_count": 10
        }
      ]
    },
    {
      "cell_type": "code",
      "source": [
        "def scatter_plot(feature):\n",
        "  plt.figure(figsize=(10,5))\n",
        "  plt.scatter(data[feature], data['sales'], c='black')\n",
        "  plt.xlabel(f'Money Spent on [features] ads ($)')\n",
        "  plt.ylabel(\"Sales in k$\")\n",
        "  plt.show()\n"
      ],
      "metadata": {
        "id": "5KyJCEjfmJ9f"
      },
      "execution_count": 11,
      "outputs": []
    },
    {
      "cell_type": "markdown",
      "source": [
        "**def scatter_plot(feature):** This defines a function called scatter_plot that takes a single argument called feature.\n",
        "\n",
        "**plt.figure(figsize=(10,5)):** This creates a new figure with a size of 10 inches by 5 inches using the figure() function from the pyplot module.\n",
        "\n",
        "**plt.scatter(data[feature], data['sales'], c='black'):** This creates a scatter plot using the scatter() function from the pyplot module. The x values are taken from the data DataFrame's feature column, and the y values are taken from the data DataFrame's sales column. The c argument specifies the color of the points; in this case, they are black.\n",
        "\n",
        "**plt.xlabel(f'Money Spent on [features] ads ($)'):** This adds a label to the x-axis of the plot using the xlabel() function from the pyplot module. The label includes the feature argument passed to the function using an f-string.\n",
        "\n",
        "**plt.ylabel(\"Sales in k$\"):** This adds a label to the y-axis of the plot using the ylabel() function from the pyplot module.\n",
        "plt.show(): This displays the plot."
      ],
      "metadata": {
        "id": "8PkxGPSWoM6i"
      }
    },
    {
      "cell_type": "code",
      "source": [
        "scatter_plot('TV')\n",
        "scatter_plot('radio')\n",
        "scatter_plot('newspaper')"
      ],
      "metadata": {
        "colab": {
          "base_uri": "https://localhost:8080/",
          "height": 968
        },
        "id": "UNhGEKZAnEqK",
        "outputId": "df2028d4-7032-462c-fb3e-3d9e4eeda324"
      },
      "execution_count": 13,
      "outputs": [
        {
          "output_type": "display_data",
          "data": {
            "text/plain": [
              "<Figure size 720x360 with 1 Axes>"
            ],
            "image/png": "[encoded data removed]"
          },
          "metadata": {
            "needs_background": "light"
          }
        },
        {
          "output_type": "display_data",
          "data": {
            "text/plain": [
              "<Figure size 720x360 with 1 Axes>"
            ],
            "image/png": "[encoded data removed]"
          },
          "metadata": {
            "needs_background": "light"
          }
        },
        {
          "output_type": "display_data",
          "data": {
            "text/plain": [
              "<Figure size 720x360 with 1 Axes>"
            ],
            "image/png": "[encoded data removed]"
          },
          "metadata": {
            "needs_background": "light"
          }
        }
      ]
    },
    {
      "cell_type": "markdown",
      "source": [
        "Plotting the GRAPHS"
      ],
      "metadata": {
        "id": "WPun9ndmoncB"
      }
    },
    {
      "cell_type": "markdown",
      "source": [
        "##Define BaseLine Model & See How Regularization Improves It"
      ],
      "metadata": {
        "id": "VsX84FW1tJO6"
      }
    },
    {
      "cell_type": "code",
      "source": [
        "from sklearn.model_selection import cross_val_score\n",
        "from sklearn.linear_model import LinearRegression\n"
      ],
      "metadata": {
        "id": "Z9v9KHvOtOnA"
      },
      "execution_count": 14,
      "outputs": []
    },
    {
      "cell_type": "markdown",
      "source": [
        "**from sklearn.model_selection import cross_val_score:** This imports the cross_val_score function from the model_selection module in Scikit-learn. The cross_val_score function is used to perform cross-validation on a model, which can help assess how well the model will generalize to new data.\n",
        "\n",
        "from sklearn.linear_model import LinearRegression: This imports the LinearRegression class from the linear_model module in Scikit-learn. The LinearRegression class is used to create a linear regression model, which is a type of supervised learning model that can be used for predicting continuous values."
      ],
      "metadata": {
        "id": "YdyExaTczGxL"
      }
    },
    {
      "cell_type": "code",
      "source": [
        "X = data.drop(['sales'], axis=1)\n",
        "y = data['sales'].values.reshape(-1,1)\n"
      ],
      "metadata": {
        "id": "47fvd8n8tdW2"
      },
      "execution_count": 16,
      "outputs": []
    },
    {
      "cell_type": "markdown",
      "source": [
        "The first line, X = data.drop(['sales'], axis=1), creates a new dataframe X by removing the column named 'sales' from the original dataframe data. The axis=1 argument specifies that the column should be removed (as opposed to a row, which would be axis=0). This line assumes that the 'sales' column contains the target variable or output that the model is trying to predict, and the remaining columns in data are the features or inputs that the model will use to make those predictions.\n",
        "\n",
        "The second line, y = data['sales'].values.reshape(-1,1), creates a new numpy array y by selecting the 'sales' column from the original dataframe data. The .values attribute converts the selected column into a numpy array. The reshape(-1,1) method reshapes the array into a column vector with the same number of rows as the original array, but with only one column. This line assumes that 'sales' is the target variable that the model is trying to predict, and that it is a one-dimensional array (i.e. a column in the dataframe). The reshape method is used to ensure that the y array has the correct shape for use with machine learning models, which often require target variables to be in a specific format."
      ],
      "metadata": {
        "id": "Pr4hnrR4zdjW"
      }
    },
    {
      "cell_type": "code",
      "source": [
        "lin_reg = LinearRegression()\n",
        "MSEs = cross_val_score(lin_reg, X, y, scoring='neg_mean_squared_error', cv=5)\n",
        "mean_MSE = np.mean(MSEs)\n",
        "print(-mean_MSE)"
      ],
      "metadata": {
        "colab": {
          "base_uri": "https://localhost:8080/"
        },
        "id": "wlN0gaLUzAI5",
        "outputId": "386e12b6-801e-4a0e-992e-5cc5f0845f48"
      },
      "execution_count": 17,
      "outputs": [
        {
          "output_type": "stream",
          "name": "stdout",
          "text": [
            "3.0729465971002106\n"
          ]
        }
      ]
    },
    {
      "cell_type": "markdown",
      "source": [
        "These lines of code are used to train a linear regression model on the data and evaluate its performance using cross-validation.\n",
        "\n",
        "The first line, lin_reg = LinearRegression(), creates an instance of the LinearRegression class, which is a machine learning model for predicting a continuous target variable based on one or more continuous input variables.\n",
        "\n",
        "The second line, MSEs = cross_val_score(lin_reg, X, y, scoring='neg_mean_squared_error', cv=5), uses the cross_val_score function from scikit-learn to perform 5-fold cross-validation on the linear regression model. The function takes several arguments:\n",
        "\n",
        "lin_reg: the model to be trained and evaluated\n",
        "X: the input features for the model\n",
        "y: the target variable for the model\n",
        "scoring: the evaluation metric to be used (in this case, negative mean squared error, or neg_mean_squared_error)\n",
        "cv: the number of folds to use in cross-validation (in this case, 5)\n",
        "The cross_val_score function returns an array of negative mean squared error (MSE) values for each fold of the cross-validation.\n",
        "\n",
        "The third line, mean_MSE = np.mean(MSEs), calculates the mean of the negative MSE values across all folds of the cross-validation.\n",
        "\n",
        "The fourth line, print(-mean_MSE), prints the negative of the mean MSE value. This is done because scikit-learn's cross_val_score function returns negative MSE values by default, since it is intended to be used with scoring functions that maximize performance (like accuracy) rather than those that minimize error (like MSE). By negating the mean MSE value, we get the actual mean MSE of the model.\n",
        "\n",
        "\n"
      ],
      "metadata": {
        "id": "UU9sgZnf27z_"
      }
    },
    {
      "cell_type": "markdown",
      "source": [
        "##Regularization\n",
        "\n",
        "Ridge Regression"
      ],
      "metadata": {
        "id": "skDUb6Te4R7f"
      }
    },
    {
      "cell_type": "code",
      "source": [
        "from sklearn.model_selection import GridSearchCV\n",
        "from sklearn.linear_model import Ridge   "
      ],
      "metadata": {
        "id": "CLkNAVe94VA2"
      },
      "execution_count": 18,
      "outputs": []
    },
    {
      "cell_type": "markdown",
      "source": [
        "**GridSearchCV **is a class in scikit-learn that performs an exhaustive search over a specified parameter grid to find the set of hyperparameters that produces the best cross-validated performance for a given model. It takes several arguments, including the model to be tuned, the parameter grid to be searched over, the evaluation metric to be used, and the number of folds to be used in cross-validation.\n",
        "\n",
        "Ridge is a class in scikit-learn that implements a Ridge regression model. Ridge regression is a regularized version of linear regression that adds a penalty term to the loss function to reduce the magnitude of the coefficients and prevent overfitting. The strength of the penalty term is controlled by the hyperparameter alpha, which can be tuned using grid search."
      ],
      "metadata": {
        "id": "IemTYcMY5xTA"
      }
    },
    {
      "cell_type": "code",
      "source": [
        "ridge = Ridge()\n",
        "parameters = {'alpha': [1e-15, 1e-10, 1e-8, 1e-8, 1e-4, 1e-3, 1e-2, 1, 5, 10 , 20] }\n",
        "ridge_regressor = GridSearchCV(ridge, parameters, scoring='neg_mean_squared_error', cv=5)\n",
        "ridge_regressor.fit(X, y);\n"
      ],
      "metadata": {
        "id": "BRp-76Dq4ij-"
      },
      "execution_count": 22,
      "outputs": []
    },
    {
      "cell_type": "markdown",
      "source": [
        "The first line, ridge = Ridge(), creates an instance of the Ridge class, which is a linear regression model that uses L2 regularization to prevent overfitting. By default, the alpha hyperparameter is set to 1.0.\n",
        "\n",
        "The second line, parameters = {'alpha': [1e-15, 1e-10, 1e-8, 1e-8, 1e-4, 1e-3, 1e-2, 1, 5, 10 , 20] }, defines a dictionary of hyperparameters to be tuned using grid search. In this case, we are only tuning the alpha hyperparameter, and we are searching over a range of values from 1e-15 to 20, with a mix of very small and larger values.\n",
        "\n",
        "The third line, ridge_regressor = GridSearchCV(ridge, parameters, scoring='neg_mean_squared_error', cv=5), creates an instance of the GridSearchCV class, which will perform the grid search for the best hyperparameters for a Ridge regression model. The ridge model is passed as the first argument, the parameters dictionary is passed as the second argument, and the scoring parameter is set to 'neg_mean_squared_error', which is a loss function to be minimized. The cv parameter is set to 5, indicating that 5-fold cross-validation should be used.\n",
        "\n",
        "The fourth line, ridge_regressor.fit(X, y), fits the ridge_regressor object to the input data X and target variable y."
      ],
      "metadata": {
        "id": "Prh8ReqZ6Yl7"
      }
    },
    {
      "cell_type": "code",
      "source": [
        "print(ridge_regressor.best_params_)\n",
        "print(-ridge_regressor.best_score_)\n"
      ],
      "metadata": {
        "colab": {
          "base_uri": "https://localhost:8080/"
        },
        "id": "MX_nVacd5OMq",
        "outputId": "13546b28-a2a5-4e39-e432-dd2a66cd2df3"
      },
      "execution_count": 24,
      "outputs": [
        {
          "output_type": "stream",
          "name": "stdout",
          "text": [
            "{'alpha': 20}\n",
            "3.072671338341143\n"
          ]
        }
      ]
    },
    {
      "cell_type": "markdown",
      "source": [
        "first line, **print(ridge_regressor.best_params_)**, is likely printing out the set of hyperparameters that produced the best results according to some optimization algorithm\n",
        "\n",
        "second line, **print(-ridge_regressor.best_score_)**, is likely printing out the negative of the best score achieved by the model. The negative of the score is used because some optimization algorithms"
      ],
      "metadata": {
        "id": "j0UYPgF19SB_"
      }
    },
    {
      "cell_type": "markdown",
      "source": [
        "##Regularization \n",
        "\n",
        "Lasso"
      ],
      "metadata": {
        "id": "QJCwbFOG9fbp"
      }
    },
    {
      "cell_type": "code",
      "source": [
        "from sklearn.model_selection import GridSearchCV\n",
        "from sklearn.linear_model import Lasso   "
      ],
      "metadata": {
        "id": "EqbwjojL9jp5"
      },
      "execution_count": 25,
      "outputs": []
    },
    {
      "cell_type": "code",
      "source": [
        "lasso = Lasso(tol=0.05)\n",
        "parameters = {'alpha': [1e-15, 1e-10, 1e-8, 1e-4, 1e-3, 1e-2, 1, 5, 10, 20]}\n",
        "lasso_regressor = GridSearchCV(lasso, parameters, scoring='neg_mean_squared_error', cv=5)\n",
        "lasso_regressor.fit(X,y)\n",
        "print(lasso_regressor.best_params_)\n",
        "print(-lasso_regressor.best_score_)"
      ],
      "metadata": {
        "colab": {
          "base_uri": "https://localhost:8080/"
        },
        "id": "69g8AXHT9nsl",
        "outputId": "3e8802d5-d2b0-4cc9-b2d9-0ee4f1fa817a"
      },
      "execution_count": 28,
      "outputs": [
        {
          "output_type": "stream",
          "name": "stdout",
          "text": [
            "{'alpha': 1}\n",
            "3.035998320911191\n"
          ]
        }
      ]
    },
    {
      "cell_type": "markdown",
      "source": [
        "Same procedures like Ridge Regression"
      ],
      "metadata": {
        "id": "xz0EFOWE-qjr"
      }
    }
  ]
}